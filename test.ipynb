{
 "cells": [
  {
   "cell_type": "code",
   "execution_count": 21,
   "id": "4c624f0d",
   "metadata": {},
   "outputs": [],
   "source": [
    "import pandas as pd\n",
    "\n",
    "df = pd.read_csv(\"Book.csv\", encoding='latin1', sep=';', skiprows=4)\n",
    "df.columns = ['tamanho', 'preço']\n"
   ]
  }
 ],
 "metadata": {
  "kernelspec": {
   "display_name": "prever-valores-xp3h9Jl7-py3.13",
   "language": "python",
   "name": "python3"
  },
  "language_info": {
   "codemirror_mode": {
    "name": "ipython",
    "version": 3
   },
   "file_extension": ".py",
   "mimetype": "text/x-python",
   "name": "python",
   "nbconvert_exporter": "python",
   "pygments_lexer": "ipython3",
   "version": "3.13.7"
  }
 },
 "nbformat": 4,
 "nbformat_minor": 5
}
